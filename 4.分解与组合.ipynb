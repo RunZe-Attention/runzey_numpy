{
 "cells": [
  {
   "cell_type": "markdown",
   "id": "3b87f251",
   "metadata": {},
   "source": [
    "# 分解与组合"
   ]
  },
  {
   "cell_type": "markdown",
   "id": "78d57885",
   "metadata": {},
   "source": [
    "这节我们主要学习 array 的分解和组合，本节是所有章节中最重要的一节，通过本节内容，您可以充分了解 numpy（以及 Python 语言）的强大，这种操作上的优雅不能说后无来者，但至少前无古人了。"
   ]
  },
  {
   "cell_type": "markdown",
   "id": "5390df91",
   "metadata": {},
   "source": [
    "内容大致包括以下小节：\n",
    "\n",
    "- 切片和索引\n",
    "- 拼接\n",
    "- 重复\n",
    "- 分拆\n",
    "\n",
    "其中，重中之重是「切片和索引」，它基础、它高频、它无处不在。我们强烈建议您熟练掌握，其他三个相对简单，只需要各记住一个 API 即可"
   ]
  },
  {
   "cell_type": "markdown",
   "id": "21cfb44a",
   "metadata": {},
   "source": [
    "## 4.1 切片和索引"
   ]
  },
  {
   "cell_type": "markdown",
   "id": "88f62a8c",
   "metadata": {},
   "source": [
    "划重点！切片和索引是通过对已有 array 进行操作而得到想要的「部分」元素的行为过程。其核心动作可以概括为：按维度根据 start:stop:step 操作 array。\n",
    "\n",
    "\n",
    "这部分内容的核心是把处理按维度分开，不处理的维度统一用 : 或 ... 代替；在看操作时，也要首先关注「,」在哪里。要处理的维度和之前 arange linspace 等接口使用方法是一样的。\n",
    "\n",
    "⚠️ 需要注意的是：引支持负数，即从后往前索引。"
   ]
  },
  {
   "cell_type": "code",
   "execution_count": 1,
   "id": "e15fda3c",
   "metadata": {},
   "outputs": [
    {
     "name": "stdout",
     "output_type": "stream",
     "text": [
      "[[ 1 15 13  8]\n",
      " [ 8 17  1 13]\n",
      " [ 4  1 10 19]\n",
      " [14 15 14 15]\n",
      " [10  2 16  9]]\n"
     ]
    }
   ],
   "source": [
    "import numpy as np\n",
    "\n",
    "rng = np.random.default_rng(42)\n",
    "arr = rng.integers(0,20,(5,4))\n",
    "\n",
    "print(arr)"
   ]
  },
  {
   "cell_type": "markdown",
   "id": "d8953164",
   "metadata": {},
   "source": [
    "`index/slice`"
   ]
  },
  {
   "cell_type": "code",
   "execution_count": 3,
   "id": "db3cb0ef",
   "metadata": {},
   "outputs": [
    {
     "name": "stdout",
     "output_type": "stream",
     "text": [
      "[ 1 15 13  8]\n",
      "[14 15 14 15]\n"
     ]
    }
   ],
   "source": [
    "# 取第0行\n",
    "print(arr[0])\n",
    "# 取第3行\n",
    "print(arr[3])\n",
    "\n"
   ]
  },
  {
   "cell_type": "code",
   "execution_count": 4,
   "id": "ce7ddfc3",
   "metadata": {},
   "outputs": [
    {
     "name": "stdout",
     "output_type": "stream",
     "text": [
      "15\n"
     ]
    }
   ],
   "source": [
    "# 取第0行的第1个元素\n",
    "print(arr[0,1])"
   ]
  },
  {
   "cell_type": "code",
   "execution_count": 5,
   "id": "a8c91837",
   "metadata": {},
   "outputs": [
    {
     "name": "stdout",
     "output_type": "stream",
     "text": [
      "[[ 1 15 13  8]\n",
      " [ 8 17  1 13]\n",
      " [ 4  1 10 19]]\n"
     ]
    }
   ],
   "source": [
    "# 然后带点连续的范围 第0~2行\n",
    "print(arr[0:3])"
   ]
  },
  {
   "cell_type": "code",
   "execution_count": 6,
   "id": "8b523706",
   "metadata": {},
   "outputs": [
    {
     "name": "stdout",
     "output_type": "stream",
     "text": [
      "[[ 1 15 13  8]\n",
      " [14 15 14 15]]\n"
     ]
    }
   ],
   "source": [
    "# 离散也可以:第0,3行\n",
    "print(arr[[0,3]])"
   ]
  },
  {
   "cell_type": "code",
   "execution_count": 9,
   "id": "09587fe0",
   "metadata": {},
   "outputs": [
    {
     "name": "stdout",
     "output_type": "stream",
     "text": [
      "[17  1]\n"
     ]
    }
   ],
   "source": [
    "# 再来加上维度,取第1~2行的第1列\n",
    "print(arr[1:3,1])"
   ]
  },
  {
   "cell_type": "code",
   "execution_count": 10,
   "id": "1b98c0d9",
   "metadata": {},
   "outputs": [
    {
     "data": {
      "text/plain": [
       "array([ 8, 14])"
      ]
     },
     "execution_count": 10,
     "metadata": {},
     "output_type": "execute_result"
    }
   ],
   "source": [
    "# 离散也是一样的,第1,3行，第0列\n",
    "arr[[1,3],[0]]"
   ]
  },
  {
   "cell_type": "code",
   "execution_count": null,
   "id": "11095c7d",
   "metadata": {},
   "outputs": [],
   "source": []
  }
 ],
 "metadata": {
  "kernelspec": {
   "display_name": "Python 3 (ipykernel)",
   "language": "python",
   "name": "python3"
  },
  "language_info": {
   "codemirror_mode": {
    "name": "ipython",
    "version": 3
   },
   "file_extension": ".py",
   "mimetype": "text/x-python",
   "name": "python",
   "nbconvert_exporter": "python",
   "pygments_lexer": "ipython3",
   "version": "3.8.16"
  }
 },
 "nbformat": 4,
 "nbformat_minor": 5
}
