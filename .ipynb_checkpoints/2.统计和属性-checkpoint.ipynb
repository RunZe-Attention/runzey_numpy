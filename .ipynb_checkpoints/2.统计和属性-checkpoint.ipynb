{
 "cells": [
  {
   "cell_type": "markdown",
   "id": "ede8d0f8",
   "metadata": {},
   "source": [
    "# 2.统计和属性"
   ]
  },
  {
   "cell_type": "markdown",
   "id": "b0ba8ff7",
   "metadata": {},
   "source": [
    "本节我们从 array 的基本统计属性入手，对刚刚创建的 array 进一步的了解。主要包括以下几个方面：\n",
    "\n",
    "- 尺寸相关\n",
    "- 最大、最小、中位、分位值\n",
    "- 平均、求和、标准差等\n",
    "\n",
    "都是描述性统计相关的指标，对于我们从整体了解一个 array 很有帮助。其中，用到最多的是尺寸相关的「shape」，最大、最小值，平均值、求和等。\n",
    "\n",
    "\n",
    "\n",
    "本节的内容非常简单，您只需要特别关注（记住）两个重要的特性：\n",
    "\n",
    "- 按维度（指定 axis）求结果。一般0表示列1表示行，可以用「沿着行/列操作」这样理解，不确定时可以拿个例子试一下。\n",
    "- 计算后保持维度（keepdims=True）\n",
    "\n",
    "另外，为了便于操作，我们使用一个随机生成的 array 作为操作对象；同时，我们指定了 seed，这样每次运行，每个人看到的结果都是一样的。一般我们在训练模型时，往往需要指定 seed，这样才能在「同等条件」下进行调参。"
   ]
  },
  {
   "cell_type": "code",
   "execution_count": 1,
   "id": "1da7c667",
   "metadata": {},
   "outputs": [],
   "source": [
    "import numpy as np"
   ]
  },
  {
   "cell_type": "code",
   "execution_count": 3,
   "id": "bd2d2d4f",
   "metadata": {},
   "outputs": [
    {
     "data": {
      "text/plain": [
       "array([[0.1551921 , 0.52222051, 0.07895339, 0.50853081],\n",
       "       [0.27397813, 0.17381014, 0.75297312, 0.31594008],\n",
       "       [0.35579943, 0.4450397 , 0.10593694, 0.73634411]])"
      ]
     },
     "execution_count": 3,
     "metadata": {},
     "output_type": "execute_result"
    }
   ],
   "source": [
    "#  先创建一个 Generator(种子为1992) \n",
    "rng = np.random.default_rng(seed=1992)\n",
    "# 再生成一个均匀分布\n",
    "arr = rng.uniform(0,1,(3,4))\n",
    "arr"
   ]
  },
  {
   "cell_type": "markdown",
   "id": "5d29649e",
   "metadata": {},
   "source": [
    "## 2.1 尺寸相关"
   ]
  },
  {
   "cell_type": "markdown",
   "id": "230776d0",
   "metadata": {},
   "source": [
    "这一小节主要包括：\n",
    "- 维度、\n",
    "- 形状\n",
    "- 数据量\n",
    "\n",
    "其中形状 shape 我们用到的最多。\n",
    "\n",
    "⚠️ 需要注意的是：size 不是 shape，ndim 表示有几个维度"
   ]
  },
  {
   "cell_type": "code",
   "execution_count": 5,
   "id": "cef9ee3a",
   "metadata": {},
   "outputs": [
    {
     "name": "stdout",
     "output_type": "stream",
     "text": [
      "arr's ndim is 2\n"
     ]
    }
   ],
   "source": [
    "# 维度:arr是二维的(两个维度)\n",
    "print(\"arr's ndim is {}\".format(arr.ndim))"
   ]
  },
  {
   "cell_type": "code",
   "execution_count": 7,
   "id": "8e3413d9",
   "metadata": {},
   "outputs": [
    {
     "name": "stdout",
     "output_type": "stream",
     "text": [
      "arr's shape is (3, 4)\n"
     ]
    }
   ],
   "source": [
    "# 形状,返回一个tuple\n",
    "print(\"arr's shape is {}\".format(arr.shape))\n"
   ]
  },
  {
   "cell_type": "code",
   "execution_count": 8,
   "id": "46db1154",
   "metadata": {},
   "outputs": [
    {
     "name": "stdout",
     "output_type": "stream",
     "text": [
      "arr's size is 12\n"
     ]
    }
   ],
   "source": [
    "# 数据量\n",
    "print(\"arr's size is {}\".format(arr.size))"
   ]
  },
  {
   "cell_type": "markdown",
   "id": "2a0219bb",
   "metadata": {},
   "source": [
    "## 2.2尺寸相关"
   ]
  },
  {
   "cell_type": "markdown",
   "id": "a145602f",
   "metadata": {},
   "source": [
    "这一小节主要包括：\n",
    "- 最大值、\n",
    "- 最小值、\n",
    "- 中位数、\n",
    "- 其他分位数，\n",
    "- 其中『最大值和最小值』我们平时用到的最多。\n",
    "\n",
    "⚠️ 需要注意的是：分位数可以是 0-1 的任意小数（表示对应分位），而且分位数并不一定在原始的 array 中"
   ]
  },
  {
   "cell_type": "code",
   "execution_count": 9,
   "id": "79def90d",
   "metadata": {},
   "outputs": [
    {
     "name": "stdout",
     "output_type": "stream",
     "text": [
      "[[0.1551921  0.52222051 0.07895339 0.50853081]\n",
      " [0.27397813 0.17381014 0.75297312 0.31594008]\n",
      " [0.35579943 0.4450397  0.10593694 0.73634411]]\n"
     ]
    }
   ],
   "source": [
    "print(arr)"
   ]
  },
  {
   "cell_type": "code",
   "execution_count": 10,
   "id": "b0de151b",
   "metadata": {},
   "outputs": [
    {
     "data": {
      "text/plain": [
       "0.7529731218876907"
      ]
     },
     "execution_count": 10,
     "metadata": {},
     "output_type": "execute_result"
    }
   ],
   "source": [
    "# 所有元素里面最大值\n",
    "arr.max()"
   ]
  },
  {
   "cell_type": "code",
   "execution_count": 11,
   "id": "ff45a449",
   "metadata": {},
   "outputs": [
    {
     "data": {
      "text/plain": [
       "array([0.35579943, 0.52222051, 0.75297312, 0.73634411])"
      ]
     },
     "execution_count": 11,
     "metadata": {},
     "output_type": "execute_result"
    }
   ],
   "source": [
    "# 按维度(列)取最大值\n",
    "arr.max(axis = 0)"
   ]
  },
  {
   "cell_type": "code",
   "execution_count": 12,
   "id": "4db76b3f",
   "metadata": {},
   "outputs": [
    {
     "data": {
      "text/plain": [
       "array([0.52222051, 0.75297312, 0.73634411])"
      ]
     },
     "execution_count": 12,
     "metadata": {},
     "output_type": "execute_result"
    }
   ],
   "source": [
    "# 按维度（行）取最大值\n",
    "arr.max(axis = 1)"
   ]
  },
  {
   "cell_type": "code",
   "execution_count": 13,
   "id": "66567ef7",
   "metadata": {},
   "outputs": [
    {
     "data": {
      "text/plain": [
       "array([0.35579943, 0.52222051, 0.75297312, 0.73634411])"
      ]
     },
     "execution_count": 13,
     "metadata": {},
     "output_type": "execute_result"
    }
   ],
   "source": [
    "# 另一种用法，不过我们一般习惯使用上面的用法，其实两者一回事\n",
    "np.amax(arr, axis=0)"
   ]
  },
  {
   "cell_type": "code",
   "execution_count": 16,
   "id": "0144698c",
   "metadata": {},
   "outputs": [
    {
     "data": {
      "text/plain": [
       "(3,)"
      ]
     },
     "execution_count": 16,
     "metadata": {},
     "output_type": "execute_result"
    }
   ],
   "source": [
    "# 是否保持原来的维度\n",
    "# 这个需要特别注意下，很多深度学习模型中都需要保持原有的维度进行后续计算\n",
    "# shape 是 (3,1)，array 的 shape 是 (3,4)，按行，同时保持了行的维度\n",
    "arr.min(axis=1, keepdims=True).shape"
   ]
  },
  {
   "cell_type": "code",
   "execution_count": 17,
   "id": "538dec9e",
   "metadata": {},
   "outputs": [
    {
     "data": {
      "text/plain": [
       "0.3358697541117531"
      ]
     },
     "execution_count": 17,
     "metadata": {},
     "output_type": "execute_result"
    }
   ],
   "source": [
    "# 中位数\n",
    "# 其他用法和 max，min 是一样的\n",
    "np.median(arr)"
   ]
  },
  {
   "cell_type": "code",
   "execution_count": 19,
   "id": "f7fcb1a6",
   "metadata": {},
   "outputs": [
    {
     "data": {
      "text/plain": [
       "array([0.21458511, 0.30942492, 0.09244517, 0.41223545])"
      ]
     },
     "execution_count": 19,
     "metadata": {},
     "output_type": "execute_result"
    }
   ],
   "source": [
    "np.quantile(arr, q=0.25, axis=0)"
   ]
  },
  {
   "cell_type": "code",
   "execution_count": 20,
   "id": "e3f161b6",
   "metadata": {},
   "outputs": [
    {
     "data": {
      "text/plain": [
       "array([[0.51195324],\n",
       "       [0.42519834],\n",
       "       [0.5178658 ]])"
      ]
     },
     "execution_count": 20,
     "metadata": {},
     "output_type": "execute_result"
    }
   ],
   "source": [
    "# 分位数，按行取 3/4，同时保持维度\n",
    "np.quantile(arr, q=0.75, axis=1, keepdims=True)"
   ]
  },
  {
   "cell_type": "code",
   "execution_count": 21,
   "id": "6876d153",
   "metadata": {},
   "outputs": [
    {
     "data": {
      "text/plain": [
       "array([0.33186145, 0.2949591 , 0.40041956])"
      ]
     },
     "execution_count": 21,
     "metadata": {},
     "output_type": "execute_result"
    }
   ],
   "source": [
    "# 分位数，注意，分位数可以是 0-1 之间的任何数字（分位）\n",
    "# 如果是 1/2 分位，那正好是中位数\n",
    "np.quantile(arr, q=1/2, axis=1)"
   ]
  },
  {
   "cell_type": "markdown",
   "id": "df6d1a6e",
   "metadata": {},
   "source": [
    "## 2.3平均求和标准差"
   ]
  },
  {
   "cell_type": "markdown",
   "id": "7f6928a0",
   "metadata": {},
   "source": [
    "这一小节主要包括：\n",
    "- 平均值、\n",
    "- 累计求和、\n",
    "- 方差、\n",
    "- 标准差等进一步的统计指标。\n",
    "\n",
    "其中使用最多的是「平均值」。"
   ]
  },
  {
   "cell_type": "code",
   "execution_count": 22,
   "id": "895ef5c9",
   "metadata": {},
   "outputs": [
    {
     "data": {
      "text/plain": [
       "0.36872653870468475"
      ]
     },
     "execution_count": 22,
     "metadata": {},
     "output_type": "execute_result"
    }
   ],
   "source": [
    "# 求去整个array中的平均值\n",
    "np.average(arr)"
   ]
  },
  {
   "cell_type": "code",
   "execution_count": 23,
   "id": "e60baba9",
   "metadata": {},
   "outputs": [
    {
     "data": {
      "text/plain": [
       "array([0.26165655, 0.38035678, 0.31262115, 0.52027167])"
      ]
     },
     "execution_count": 23,
     "metadata": {},
     "output_type": "execute_result"
    }
   ],
   "source": [
    "# 按维度平均\n",
    "np.average(arr,axis=0)"
   ]
  },
  {
   "cell_type": "code",
   "execution_count": 26,
   "id": "524bf88d",
   "metadata": {},
   "outputs": [
    {
     "data": {
      "text/plain": [
       "array([0.26165655, 0.38035678, 0.31262115, 0.52027167])"
      ]
     },
     "execution_count": 26,
     "metadata": {},
     "output_type": "execute_result"
    }
   ],
   "source": [
    "# 另一个计算平均值的 API\n",
    "# 它与 average 的主要区别是，np.average 可以指定权重，即可以用于计算加权平均\n",
    "# 一般建议使用 average，忘掉 mean 吧！\n",
    "np.mean(arr,axis=0)"
   ]
  },
  {
   "cell_type": "code",
   "execution_count": 27,
   "id": "b33a6c84",
   "metadata": {},
   "outputs": [
    {
     "data": {
      "text/plain": [
       "4.424718464456217"
      ]
     },
     "execution_count": 27,
     "metadata": {},
     "output_type": "execute_result"
    }
   ],
   "source": [
    "# 求和，不多说了，类似\n",
    "np.sum(arr)"
   ]
  },
  {
   "cell_type": "code",
   "execution_count": 28,
   "id": "cd3a7e07",
   "metadata": {},
   "outputs": [
    {
     "data": {
      "text/plain": [
       "array([1.26489682, 1.51670147, 1.64312018])"
      ]
     },
     "execution_count": 28,
     "metadata": {},
     "output_type": "execute_result"
    }
   ],
   "source": [
    "np.sum(arr, axis=1)"
   ]
  },
  {
   "cell_type": "code",
   "execution_count": 29,
   "id": "ecd95c6e",
   "metadata": {},
   "outputs": [
    {
     "data": {
      "text/plain": [
       "array([[1.26489682],\n",
       "       [1.51670147],\n",
       "       [1.64312018]])"
      ]
     },
     "execution_count": 29,
     "metadata": {},
     "output_type": "execute_result"
    }
   ],
   "source": [
    "np.sum(arr, axis=1, keepdims=True)"
   ]
  },
  {
   "cell_type": "code",
   "execution_count": 36,
   "id": "1fb71aef",
   "metadata": {},
   "outputs": [
    {
     "data": {
      "text/plain": [
       "array([[0.1551921 , 0.52222051, 0.07895339, 0.50853081],\n",
       "       [0.27397813, 0.17381014, 0.75297312, 0.31594008],\n",
       "       [0.35579943, 0.4450397 , 0.10593694, 0.73634411]])"
      ]
     },
     "execution_count": 36,
     "metadata": {},
     "output_type": "execute_result"
    }
   ],
   "source": [
    "arr"
   ]
  },
  {
   "cell_type": "code",
   "execution_count": 30,
   "id": "accdfeaa",
   "metadata": {},
   "outputs": [
    {
     "data": {
      "text/plain": [
       "array([[0.1551921 , 0.52222051, 0.07895339, 0.50853081],\n",
       "       [0.42917023, 0.69603065, 0.83192652, 0.82447089],\n",
       "       [0.78496966, 1.14107035, 0.93786346, 1.560815  ]])"
      ]
     },
     "execution_count": 30,
     "metadata": {},
     "output_type": "execute_result"
    }
   ],
   "source": [
    "# 按列累计求和\n",
    "np.cumsum(arr, axis=0)"
   ]
  },
  {
   "cell_type": "code",
   "execution_count": 31,
   "id": "a2bc5fca",
   "metadata": {},
   "outputs": [
    {
     "data": {
      "text/plain": [
       "array([[0.1551921 , 0.67741261, 0.756366  , 1.26489682],\n",
       "       [0.27397813, 0.44778827, 1.20076139, 1.51670147],\n",
       "       [0.35579943, 0.80083913, 0.90677607, 1.64312018]])"
      ]
     },
     "execution_count": 31,
     "metadata": {},
     "output_type": "execute_result"
    }
   ],
   "source": [
    "# 按行累计求和\n",
    "np.cumsum(arr, axis=1)"
   ]
  },
  {
   "cell_type": "code",
   "execution_count": 33,
   "id": "f8fe0d91",
   "metadata": {},
   "outputs": [
    {
     "data": {
      "text/plain": [
       "0.21989854545586984"
      ]
     },
     "execution_count": 33,
     "metadata": {},
     "output_type": "execute_result"
    }
   ],
   "source": [
    "# 标准差，用法类似\n",
    "np.std(arr)"
   ]
  },
  {
   "cell_type": "code",
   "execution_count": 34,
   "id": "79d2efd8",
   "metadata": {},
   "outputs": [
    {
     "data": {
      "text/plain": [
       "array([0.08235975, 0.14941075, 0.31157067, 0.1718299 ])"
      ]
     },
     "execution_count": 34,
     "metadata": {},
     "output_type": "execute_result"
    }
   ],
   "source": [
    "# 按列求标准差\n",
    "np.std(arr, axis=0)"
   ]
  },
  {
   "cell_type": "code",
   "execution_count": 35,
   "id": "820229e6",
   "metadata": {},
   "outputs": [
    {
     "data": {
      "text/plain": [
       "array([0.04041127, 0.0492412 , 0.05077947])"
      ]
     },
     "execution_count": 35,
     "metadata": {},
     "output_type": "execute_result"
    }
   ],
   "source": [
    "# 方差\n",
    "np.var(arr, axis=1)"
   ]
  }
 ],
 "metadata": {
  "kernelspec": {
   "display_name": "Python 3 (ipykernel)",
   "language": "python",
   "name": "python3"
  },
  "language_info": {
   "codemirror_mode": {
    "name": "ipython",
    "version": 3
   },
   "file_extension": ".py",
   "mimetype": "text/x-python",
   "name": "python",
   "nbconvert_exporter": "python",
   "pygments_lexer": "ipython3",
   "version": "3.8.16"
  }
 },
 "nbformat": 4,
 "nbformat_minor": 5
}
